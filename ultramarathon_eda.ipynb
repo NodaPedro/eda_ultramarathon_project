{
 "cells": [
  {
   "cell_type": "code",
   "execution_count": 1,
   "id": "9fb5564f-8795-412b-b5c5-d5323be0b119",
   "metadata": {},
   "outputs": [],
   "source": [
    "#dataset\n",
    "#https://www.kaggle.com/datasets/aiaiaidavid/the-big-dataset-of-ultra-marathon-running/discussion/420633"
   ]
  },
  {
   "cell_type": "code",
   "execution_count": 2,
   "id": "01d1fd34-91c6-49b8-a94a-40690545f071",
   "metadata": {},
   "outputs": [],
   "source": [
    "import pandas as pd\n",
    "import seaborn as sns"
   ]
  },
  {
   "cell_type": "code",
   "execution_count": 3,
   "id": "f3ecedff-32ab-4581-b5ef-09d16f83dd0f",
   "metadata": {},
   "outputs": [
    {
     "name": "stderr",
     "output_type": "stream",
     "text": [
      "C:\\Users\\pedro\\AppData\\Local\\Temp\\ipykernel_5420\\2350612576.py:1: DtypeWarning: Columns (11) have mixed types. Specify dtype option on import or set low_memory=False.\n",
      "  df = pd.read_csv(\"TWO_CENTURIES_OF_UM_RACES.csv\")\n"
     ]
    }
   ],
   "source": [
    "df = pd.read_csv(\"ultramarathon_data.csv\")"
   ]
  },
  {
   "cell_type": "code",
   "execution_count": 4,
   "id": "f9792902-cdf6-4aa7-ab1e-9116182c736b",
   "metadata": {},
   "outputs": [
    {
     "data": {
      "text/html": [
       "<div>\n",
       "<style scoped>\n",
       "    .dataframe tbody tr th:only-of-type {\n",
       "        vertical-align: middle;\n",
       "    }\n",
       "\n",
       "    .dataframe tbody tr th {\n",
       "        vertical-align: top;\n",
       "    }\n",
       "\n",
       "    .dataframe thead th {\n",
       "        text-align: right;\n",
       "    }\n",
       "</style>\n",
       "<table border=\"1\" class=\"dataframe\">\n",
       "  <thead>\n",
       "    <tr style=\"text-align: right;\">\n",
       "      <th></th>\n",
       "      <th>Year of event</th>\n",
       "      <th>Event dates</th>\n",
       "      <th>Event name</th>\n",
       "      <th>Event distance/length</th>\n",
       "      <th>Event number of finishers</th>\n",
       "      <th>Athlete performance</th>\n",
       "      <th>Athlete club</th>\n",
       "      <th>Athlete country</th>\n",
       "      <th>Athlete year of birth</th>\n",
       "      <th>Athlete gender</th>\n",
       "      <th>Athlete age category</th>\n",
       "      <th>Athlete average speed</th>\n",
       "      <th>Athlete ID</th>\n",
       "    </tr>\n",
       "  </thead>\n",
       "  <tbody>\n",
       "    <tr>\n",
       "      <th>0</th>\n",
       "      <td>2018</td>\n",
       "      <td>06.01.2018</td>\n",
       "      <td>Selva Costera (CHI)</td>\n",
       "      <td>50km</td>\n",
       "      <td>22</td>\n",
       "      <td>4:51:39 h</td>\n",
       "      <td>Tnfrc</td>\n",
       "      <td>CHI</td>\n",
       "      <td>1978.0</td>\n",
       "      <td>M</td>\n",
       "      <td>M35</td>\n",
       "      <td>10.286</td>\n",
       "      <td>0</td>\n",
       "    </tr>\n",
       "    <tr>\n",
       "      <th>1</th>\n",
       "      <td>2018</td>\n",
       "      <td>06.01.2018</td>\n",
       "      <td>Selva Costera (CHI)</td>\n",
       "      <td>50km</td>\n",
       "      <td>22</td>\n",
       "      <td>5:15:45 h</td>\n",
       "      <td>Roberto Echeverría</td>\n",
       "      <td>CHI</td>\n",
       "      <td>1981.0</td>\n",
       "      <td>M</td>\n",
       "      <td>M35</td>\n",
       "      <td>9.501</td>\n",
       "      <td>1</td>\n",
       "    </tr>\n",
       "    <tr>\n",
       "      <th>2</th>\n",
       "      <td>2018</td>\n",
       "      <td>06.01.2018</td>\n",
       "      <td>Selva Costera (CHI)</td>\n",
       "      <td>50km</td>\n",
       "      <td>22</td>\n",
       "      <td>5:16:44 h</td>\n",
       "      <td>Puro Trail Osorno</td>\n",
       "      <td>CHI</td>\n",
       "      <td>1987.0</td>\n",
       "      <td>M</td>\n",
       "      <td>M23</td>\n",
       "      <td>9.472</td>\n",
       "      <td>2</td>\n",
       "    </tr>\n",
       "    <tr>\n",
       "      <th>3</th>\n",
       "      <td>2018</td>\n",
       "      <td>06.01.2018</td>\n",
       "      <td>Selva Costera (CHI)</td>\n",
       "      <td>50km</td>\n",
       "      <td>22</td>\n",
       "      <td>5:34:13 h</td>\n",
       "      <td>Columbia</td>\n",
       "      <td>ARG</td>\n",
       "      <td>1976.0</td>\n",
       "      <td>M</td>\n",
       "      <td>M40</td>\n",
       "      <td>8.976</td>\n",
       "      <td>3</td>\n",
       "    </tr>\n",
       "    <tr>\n",
       "      <th>4</th>\n",
       "      <td>2018</td>\n",
       "      <td>06.01.2018</td>\n",
       "      <td>Selva Costera (CHI)</td>\n",
       "      <td>50km</td>\n",
       "      <td>22</td>\n",
       "      <td>5:54:14 h</td>\n",
       "      <td>Baguales Trail</td>\n",
       "      <td>CHI</td>\n",
       "      <td>1992.0</td>\n",
       "      <td>M</td>\n",
       "      <td>M23</td>\n",
       "      <td>8.469</td>\n",
       "      <td>4</td>\n",
       "    </tr>\n",
       "    <tr>\n",
       "      <th>5</th>\n",
       "      <td>2018</td>\n",
       "      <td>06.01.2018</td>\n",
       "      <td>Selva Costera (CHI)</td>\n",
       "      <td>50km</td>\n",
       "      <td>22</td>\n",
       "      <td>6:25:01 h</td>\n",
       "      <td>NaN</td>\n",
       "      <td>ARG</td>\n",
       "      <td>1974.0</td>\n",
       "      <td>M</td>\n",
       "      <td>M40</td>\n",
       "      <td>7.792</td>\n",
       "      <td>5</td>\n",
       "    </tr>\n",
       "    <tr>\n",
       "      <th>6</th>\n",
       "      <td>2018</td>\n",
       "      <td>06.01.2018</td>\n",
       "      <td>Selva Costera (CHI)</td>\n",
       "      <td>50km</td>\n",
       "      <td>22</td>\n",
       "      <td>6:28:00 h</td>\n",
       "      <td>Los Patagones</td>\n",
       "      <td>ARG</td>\n",
       "      <td>1979.0</td>\n",
       "      <td>F</td>\n",
       "      <td>W35</td>\n",
       "      <td>7.732</td>\n",
       "      <td>6</td>\n",
       "    </tr>\n",
       "    <tr>\n",
       "      <th>7</th>\n",
       "      <td>2018</td>\n",
       "      <td>06.01.2018</td>\n",
       "      <td>Selva Costera (CHI)</td>\n",
       "      <td>50km</td>\n",
       "      <td>22</td>\n",
       "      <td>6:32:24 h</td>\n",
       "      <td>Reaktiva Chile</td>\n",
       "      <td>CHI</td>\n",
       "      <td>1967.0</td>\n",
       "      <td>F</td>\n",
       "      <td>W50</td>\n",
       "      <td>7.645</td>\n",
       "      <td>7</td>\n",
       "    </tr>\n",
       "    <tr>\n",
       "      <th>8</th>\n",
       "      <td>2018</td>\n",
       "      <td>06.01.2018</td>\n",
       "      <td>Selva Costera (CHI)</td>\n",
       "      <td>50km</td>\n",
       "      <td>22</td>\n",
       "      <td>6:39:08 h</td>\n",
       "      <td>Puro Trail Osorno</td>\n",
       "      <td>CHI</td>\n",
       "      <td>1985.0</td>\n",
       "      <td>M</td>\n",
       "      <td>M23</td>\n",
       "      <td>7.516</td>\n",
       "      <td>8</td>\n",
       "    </tr>\n",
       "    <tr>\n",
       "      <th>9</th>\n",
       "      <td>2018</td>\n",
       "      <td>06.01.2018</td>\n",
       "      <td>Selva Costera (CHI)</td>\n",
       "      <td>50km</td>\n",
       "      <td>22</td>\n",
       "      <td>6:45:11 h</td>\n",
       "      <td>Marlene Flores Team</td>\n",
       "      <td>CHI</td>\n",
       "      <td>1976.0</td>\n",
       "      <td>M</td>\n",
       "      <td>M40</td>\n",
       "      <td>7.404</td>\n",
       "      <td>9</td>\n",
       "    </tr>\n",
       "  </tbody>\n",
       "</table>\n",
       "</div>"
      ],
      "text/plain": [
       "   Year of event Event dates           Event name Event distance/length  \\\n",
       "0           2018  06.01.2018  Selva Costera (CHI)                  50km   \n",
       "1           2018  06.01.2018  Selva Costera (CHI)                  50km   \n",
       "2           2018  06.01.2018  Selva Costera (CHI)                  50km   \n",
       "3           2018  06.01.2018  Selva Costera (CHI)                  50km   \n",
       "4           2018  06.01.2018  Selva Costera (CHI)                  50km   \n",
       "5           2018  06.01.2018  Selva Costera (CHI)                  50km   \n",
       "6           2018  06.01.2018  Selva Costera (CHI)                  50km   \n",
       "7           2018  06.01.2018  Selva Costera (CHI)                  50km   \n",
       "8           2018  06.01.2018  Selva Costera (CHI)                  50km   \n",
       "9           2018  06.01.2018  Selva Costera (CHI)                  50km   \n",
       "\n",
       "   Event number of finishers Athlete performance         Athlete club  \\\n",
       "0                         22           4:51:39 h                Tnfrc   \n",
       "1                         22           5:15:45 h   Roberto Echeverría   \n",
       "2                         22           5:16:44 h    Puro Trail Osorno   \n",
       "3                         22           5:34:13 h             Columbia   \n",
       "4                         22           5:54:14 h       Baguales Trail   \n",
       "5                         22           6:25:01 h                  NaN   \n",
       "6                         22           6:28:00 h        Los Patagones   \n",
       "7                         22           6:32:24 h       Reaktiva Chile   \n",
       "8                         22           6:39:08 h    Puro Trail Osorno   \n",
       "9                         22           6:45:11 h  Marlene Flores Team   \n",
       "\n",
       "  Athlete country  Athlete year of birth Athlete gender Athlete age category  \\\n",
       "0             CHI                 1978.0              M                  M35   \n",
       "1             CHI                 1981.0              M                  M35   \n",
       "2             CHI                 1987.0              M                  M23   \n",
       "3             ARG                 1976.0              M                  M40   \n",
       "4             CHI                 1992.0              M                  M23   \n",
       "5             ARG                 1974.0              M                  M40   \n",
       "6             ARG                 1979.0              F                  W35   \n",
       "7             CHI                 1967.0              F                  W50   \n",
       "8             CHI                 1985.0              M                  M23   \n",
       "9             CHI                 1976.0              M                  M40   \n",
       "\n",
       "  Athlete average speed  Athlete ID  \n",
       "0                10.286           0  \n",
       "1                 9.501           1  \n",
       "2                 9.472           2  \n",
       "3                 8.976           3  \n",
       "4                 8.469           4  \n",
       "5                 7.792           5  \n",
       "6                 7.732           6  \n",
       "7                 7.645           7  \n",
       "8                 7.516           8  \n",
       "9                 7.404           9  "
      ]
     },
     "execution_count": 4,
     "metadata": {},
     "output_type": "execute_result"
    }
   ],
   "source": [
    "df.head(10)"
   ]
  },
  {
   "cell_type": "code",
   "execution_count": 5,
   "id": "5c91d5eb-5f8b-4232-8d3b-fb2f845c24a7",
   "metadata": {},
   "outputs": [
    {
     "data": {
      "text/plain": [
       "(7461195, 13)"
      ]
     },
     "execution_count": 5,
     "metadata": {},
     "output_type": "execute_result"
    }
   ],
   "source": [
    "df.shape"
   ]
  },
  {
   "cell_type": "code",
   "execution_count": 6,
   "id": "0860e378-71fe-494f-994b-4d8fc6dfa601",
   "metadata": {},
   "outputs": [
    {
     "data": {
      "text/plain": [
       "Year of event                  int64\n",
       "Event dates                   object\n",
       "Event name                    object\n",
       "Event distance/length         object\n",
       "Event number of finishers      int64\n",
       "Athlete performance           object\n",
       "Athlete club                  object\n",
       "Athlete country               object\n",
       "Athlete year of birth        float64\n",
       "Athlete gender                object\n",
       "Athlete age category          object\n",
       "Athlete average speed         object\n",
       "Athlete ID                     int64\n",
       "dtype: object"
      ]
     },
     "execution_count": 6,
     "metadata": {},
     "output_type": "execute_result"
    }
   ],
   "source": [
    "df.dtypes"
   ]
  },
  {
   "cell_type": "code",
   "execution_count": 7,
   "id": "806b9e78-3225-4020-bf5b-cf556bea672d",
   "metadata": {},
   "outputs": [],
   "source": [
    "# cleaning data\n",
    "# only USA races, 50km or 50mi, 2022"
   ]
  },
  {
   "cell_type": "code",
   "execution_count": 8,
   "id": "961e936b-3e64-4ac7-92a1-11e51fd43caa",
   "metadata": {},
   "outputs": [],
   "source": [
    "#creating a new column with the countries acronyms"
   ]
  },
  {
   "cell_type": "code",
   "execution_count": 9,
   "id": "86141332-1863-471e-bd90-0e787ce8b3e2",
   "metadata": {},
   "outputs": [],
   "source": [
    "df['country'] = df['Event name'].apply(lambda x: x.split('(')[1].split(')')[0])"
   ]
  },
  {
   "cell_type": "code",
   "execution_count": 10,
   "id": "39b5e806-b56d-4208-bd55-ffba2d376307",
   "metadata": {},
   "outputs": [],
   "source": [
    "#updating the df to contain only USA races"
   ]
  },
  {
   "cell_type": "code",
   "execution_count": 11,
   "id": "8c14496b-6980-40e7-8fa4-0f9bf546508e",
   "metadata": {},
   "outputs": [
    {
     "data": {
      "text/plain": [
       "array(['USA'], dtype=object)"
      ]
     },
     "execution_count": 11,
     "metadata": {},
     "output_type": "execute_result"
    }
   ],
   "source": [
    "df = df[df['country'] == 'USA']\n",
    "df['country'].unique()"
   ]
  },
  {
   "cell_type": "code",
   "execution_count": 12,
   "id": "a0c8b5ab-e8ac-4b00-8ef1-b65f769806c1",
   "metadata": {},
   "outputs": [],
   "source": [
    "# updating the df to contain only 2022 races"
   ]
  },
  {
   "cell_type": "code",
   "execution_count": 13,
   "id": "0c132708-1030-4f3a-85f2-a2c95a33c0a1",
   "metadata": {},
   "outputs": [
    {
     "data": {
      "text/plain": [
       "array([2022], dtype=int64)"
      ]
     },
     "execution_count": 13,
     "metadata": {},
     "output_type": "execute_result"
    }
   ],
   "source": [
    "df = df[df['Year of event'] == 2022]\n",
    "df['Year of event'].unique()"
   ]
  },
  {
   "cell_type": "code",
   "execution_count": 14,
   "id": "66c247bf-c5d9-43dc-8f8b-3dec8c77b916",
   "metadata": {},
   "outputs": [],
   "source": [
    "# updating the df to contain only 50kh or 50mi races with isin func"
   ]
  },
  {
   "cell_type": "code",
   "execution_count": 15,
   "id": "7014a261-afbd-4f70-98cd-3c94f5cecb85",
   "metadata": {},
   "outputs": [
    {
     "data": {
      "text/plain": [
       "array(['50mi', '50km'], dtype=object)"
      ]
     },
     "execution_count": 15,
     "metadata": {},
     "output_type": "execute_result"
    }
   ],
   "source": [
    "df = df[df['Event distance/length'].isin(['50km', '50mi'])]\n",
    "df['Event distance/length'].unique()"
   ]
  },
  {
   "cell_type": "code",
   "execution_count": 16,
   "id": "8260056a-5b47-4705-b539-7bafb59869da",
   "metadata": {},
   "outputs": [
    {
     "data": {
      "text/plain": [
       "(58600, 14)"
      ]
     },
     "execution_count": 16,
     "metadata": {},
     "output_type": "execute_result"
    }
   ],
   "source": [
    "df.shape"
   ]
  },
  {
   "cell_type": "code",
   "execution_count": 17,
   "id": "5853bb3f-12d8-4b8a-83a6-7d65962843f6",
   "metadata": {},
   "outputs": [],
   "source": [
    "# remove the country acronym (USA) from the event names"
   ]
  },
  {
   "cell_type": "code",
   "execution_count": 18,
   "id": "07fdde1a-aa62-4468-8eb1-a2ab5c69e662",
   "metadata": {},
   "outputs": [],
   "source": [
    "df['Event name'] = df['Event name'].apply(lambda x: x.split('(')[0])"
   ]
  },
  {
   "cell_type": "code",
   "execution_count": 19,
   "id": "12a54a62-b061-4d93-88d9-35c1aeee3940",
   "metadata": {},
   "outputs": [],
   "source": [
    "# creating a new column 'athlete age'"
   ]
  },
  {
   "cell_type": "code",
   "execution_count": 20,
   "id": "e6ca383a-bd9c-4d8e-93a7-f0116d7b0ca1",
   "metadata": {},
   "outputs": [],
   "source": [
    "df['athlete_age'] = df['Year of event'] - df['Athlete year of birth']"
   ]
  },
  {
   "cell_type": "code",
   "execution_count": 21,
   "id": "1d222329-0ca0-499f-b544-86c2428f76e7",
   "metadata": {},
   "outputs": [],
   "source": [
    "# removing the 'h' sulfix from the columns 'athlete performance'"
   ]
  },
  {
   "cell_type": "code",
   "execution_count": 22,
   "id": "3ac4f791-b597-47c7-8484-f37da5908c27",
   "metadata": {},
   "outputs": [],
   "source": [
    "df['Athlete performance'] = df['Athlete performance'].apply(lambda x: x.split(' ')[0])"
   ]
  },
  {
   "cell_type": "code",
   "execution_count": 23,
   "id": "55c9dd26-61b2-48e5-a4f9-1c46f9bf3ef5",
   "metadata": {},
   "outputs": [],
   "source": [
    "# drop some columns: 'athlete club', 'athlete country', 'athlete year of birth', 'athlete age category'"
   ]
  },
  {
   "cell_type": "code",
   "execution_count": 24,
   "id": "02921768-141a-4ad8-91d9-84cf28cf46df",
   "metadata": {},
   "outputs": [],
   "source": [
    "df = df.drop(['Athlete club', 'Athlete country', 'Athlete year of birth', 'Athlete age category'], axis='columns')"
   ]
  },
  {
   "cell_type": "code",
   "execution_count": 25,
   "id": "6b7795cb-ee33-48b1-a0ff-a5b5e152fb7c",
   "metadata": {},
   "outputs": [
    {
     "data": {
      "text/plain": [
       "Index(['Year of event', 'Event dates', 'Event name', 'Event distance/length',\n",
       "       'Event number of finishers', 'Athlete performance', 'Athlete gender',\n",
       "       'Athlete average speed', 'Athlete ID', 'country', 'athlete_age'],\n",
       "      dtype='object')"
      ]
     },
     "execution_count": 25,
     "metadata": {},
     "output_type": "execute_result"
    }
   ],
   "source": [
    "df.columns"
   ]
  },
  {
   "cell_type": "code",
   "execution_count": 26,
   "id": "c01b6071-a0f2-4fb0-b3e4-cee7c4cfff09",
   "metadata": {},
   "outputs": [],
   "source": [
    "# cleaning null values"
   ]
  },
  {
   "cell_type": "code",
   "execution_count": 27,
   "id": "e003b801-cc7e-423c-8352-cacb7ae20c13",
   "metadata": {},
   "outputs": [
    {
     "data": {
      "text/plain": [
       "Year of event                   0\n",
       "Event dates                     0\n",
       "Event name                      0\n",
       "Event distance/length           0\n",
       "Event number of finishers       0\n",
       "Athlete performance             0\n",
       "Athlete gender                  0\n",
       "Athlete average speed           0\n",
       "Athlete ID                      0\n",
       "country                         0\n",
       "athlete_age                  1788\n",
       "dtype: int64"
      ]
     },
     "execution_count": 27,
     "metadata": {},
     "output_type": "execute_result"
    }
   ],
   "source": [
    "df.isna().sum()"
   ]
  },
  {
   "cell_type": "code",
   "execution_count": 28,
   "id": "602816a6-bb90-43cf-9c16-0f09d74e4247",
   "metadata": {},
   "outputs": [
    {
     "data": {
      "text/plain": [
       "(56812, 11)"
      ]
     },
     "execution_count": 28,
     "metadata": {},
     "output_type": "execute_result"
    }
   ],
   "source": [
    "df = df.dropna()\n",
    "df.shape"
   ]
  },
  {
   "cell_type": "code",
   "execution_count": 29,
   "id": "c0f0dbb9-53cf-4c27-89f9-683c98181f4b",
   "metadata": {},
   "outputs": [],
   "source": [
    "# check for duplicates"
   ]
  },
  {
   "cell_type": "code",
   "execution_count": 30,
   "id": "f4c10244-3638-4472-84fc-0cd05bdb2f36",
   "metadata": {},
   "outputs": [
    {
     "data": {
      "text/html": [
       "<div>\n",
       "<style scoped>\n",
       "    .dataframe tbody tr th:only-of-type {\n",
       "        vertical-align: middle;\n",
       "    }\n",
       "\n",
       "    .dataframe tbody tr th {\n",
       "        vertical-align: top;\n",
       "    }\n",
       "\n",
       "    .dataframe thead th {\n",
       "        text-align: right;\n",
       "    }\n",
       "</style>\n",
       "<table border=\"1\" class=\"dataframe\">\n",
       "  <thead>\n",
       "    <tr style=\"text-align: right;\">\n",
       "      <th></th>\n",
       "      <th>Year of event</th>\n",
       "      <th>Event dates</th>\n",
       "      <th>Event name</th>\n",
       "      <th>Event distance/length</th>\n",
       "      <th>Event number of finishers</th>\n",
       "      <th>Athlete performance</th>\n",
       "      <th>Athlete gender</th>\n",
       "      <th>Athlete average speed</th>\n",
       "      <th>Athlete ID</th>\n",
       "      <th>country</th>\n",
       "      <th>athlete_age</th>\n",
       "    </tr>\n",
       "  </thead>\n",
       "  <tbody>\n",
       "  </tbody>\n",
       "</table>\n",
       "</div>"
      ],
      "text/plain": [
       "Empty DataFrame\n",
       "Columns: [Year of event, Event dates, Event name, Event distance/length, Event number of finishers, Athlete performance, Athlete gender, Athlete average speed, Athlete ID, country, athlete_age]\n",
       "Index: []"
      ]
     },
     "execution_count": 30,
     "metadata": {},
     "output_type": "execute_result"
    }
   ],
   "source": [
    "df[df.duplicated()]"
   ]
  },
  {
   "cell_type": "code",
   "execution_count": 31,
   "id": "a35fd3c0-b05a-4356-b6e7-f42a1f5e2b3a",
   "metadata": {},
   "outputs": [],
   "source": [
    "# reset the index"
   ]
  },
  {
   "cell_type": "code",
   "execution_count": 32,
   "id": "91399802-3388-484a-8fbb-f974822dc2e0",
   "metadata": {},
   "outputs": [
    {
     "data": {
      "text/html": [
       "<div>\n",
       "<style scoped>\n",
       "    .dataframe tbody tr th:only-of-type {\n",
       "        vertical-align: middle;\n",
       "    }\n",
       "\n",
       "    .dataframe tbody tr th {\n",
       "        vertical-align: top;\n",
       "    }\n",
       "\n",
       "    .dataframe thead th {\n",
       "        text-align: right;\n",
       "    }\n",
       "</style>\n",
       "<table border=\"1\" class=\"dataframe\">\n",
       "  <thead>\n",
       "    <tr style=\"text-align: right;\">\n",
       "      <th></th>\n",
       "      <th>Year of event</th>\n",
       "      <th>Event dates</th>\n",
       "      <th>Event name</th>\n",
       "      <th>Event distance/length</th>\n",
       "      <th>Event number of finishers</th>\n",
       "      <th>Athlete performance</th>\n",
       "      <th>Athlete gender</th>\n",
       "      <th>Athlete average speed</th>\n",
       "      <th>Athlete ID</th>\n",
       "      <th>country</th>\n",
       "      <th>athlete_age</th>\n",
       "    </tr>\n",
       "  </thead>\n",
       "  <tbody>\n",
       "    <tr>\n",
       "      <th>0</th>\n",
       "      <td>2022</td>\n",
       "      <td>12.03.2022</td>\n",
       "      <td>Bel Monte 50 Mile Endurance Run</td>\n",
       "      <td>50mi</td>\n",
       "      <td>49</td>\n",
       "      <td>7:53:36</td>\n",
       "      <td>M</td>\n",
       "      <td>10.194</td>\n",
       "      <td>839364</td>\n",
       "      <td>USA</td>\n",
       "      <td>28.0</td>\n",
       "    </tr>\n",
       "    <tr>\n",
       "      <th>1</th>\n",
       "      <td>2022</td>\n",
       "      <td>12.03.2022</td>\n",
       "      <td>Bel Monte 50 Mile Endurance Run</td>\n",
       "      <td>50mi</td>\n",
       "      <td>49</td>\n",
       "      <td>8:14:24</td>\n",
       "      <td>M</td>\n",
       "      <td>9.765</td>\n",
       "      <td>366598</td>\n",
       "      <td>USA</td>\n",
       "      <td>32.0</td>\n",
       "    </tr>\n",
       "    <tr>\n",
       "      <th>2</th>\n",
       "      <td>2022</td>\n",
       "      <td>12.03.2022</td>\n",
       "      <td>Bel Monte 50 Mile Endurance Run</td>\n",
       "      <td>50mi</td>\n",
       "      <td>49</td>\n",
       "      <td>8:19:16</td>\n",
       "      <td>M</td>\n",
       "      <td>9.67</td>\n",
       "      <td>553476</td>\n",
       "      <td>USA</td>\n",
       "      <td>43.0</td>\n",
       "    </tr>\n",
       "    <tr>\n",
       "      <th>3</th>\n",
       "      <td>2022</td>\n",
       "      <td>12.03.2022</td>\n",
       "      <td>Bel Monte 50 Mile Endurance Run</td>\n",
       "      <td>50mi</td>\n",
       "      <td>49</td>\n",
       "      <td>8:23:49</td>\n",
       "      <td>M</td>\n",
       "      <td>9.583</td>\n",
       "      <td>807555</td>\n",
       "      <td>USA</td>\n",
       "      <td>28.0</td>\n",
       "    </tr>\n",
       "    <tr>\n",
       "      <th>4</th>\n",
       "      <td>2022</td>\n",
       "      <td>12.03.2022</td>\n",
       "      <td>Bel Monte 50 Mile Endurance Run</td>\n",
       "      <td>50mi</td>\n",
       "      <td>49</td>\n",
       "      <td>8:41:37</td>\n",
       "      <td>M</td>\n",
       "      <td>9.256</td>\n",
       "      <td>947348</td>\n",
       "      <td>USA</td>\n",
       "      <td>25.0</td>\n",
       "    </tr>\n",
       "    <tr>\n",
       "      <th>...</th>\n",
       "      <td>...</td>\n",
       "      <td>...</td>\n",
       "      <td>...</td>\n",
       "      <td>...</td>\n",
       "      <td>...</td>\n",
       "      <td>...</td>\n",
       "      <td>...</td>\n",
       "      <td>...</td>\n",
       "      <td>...</td>\n",
       "      <td>...</td>\n",
       "      <td>...</td>\n",
       "    </tr>\n",
       "    <tr>\n",
       "      <th>56807</th>\n",
       "      <td>2022</td>\n",
       "      <td>16.10.2022</td>\n",
       "      <td>Tussey Mountainback 50 Miler</td>\n",
       "      <td>50mi</td>\n",
       "      <td>35</td>\n",
       "      <td>11:16:08</td>\n",
       "      <td>M</td>\n",
       "      <td>7.141</td>\n",
       "      <td>1044739</td>\n",
       "      <td>USA</td>\n",
       "      <td>54.0</td>\n",
       "    </tr>\n",
       "    <tr>\n",
       "      <th>56808</th>\n",
       "      <td>2022</td>\n",
       "      <td>16.10.2022</td>\n",
       "      <td>Tussey Mountainback 50 Miler</td>\n",
       "      <td>50mi</td>\n",
       "      <td>35</td>\n",
       "      <td>11:27:05</td>\n",
       "      <td>M</td>\n",
       "      <td>7.027</td>\n",
       "      <td>50971</td>\n",
       "      <td>USA</td>\n",
       "      <td>63.0</td>\n",
       "    </tr>\n",
       "    <tr>\n",
       "      <th>56809</th>\n",
       "      <td>2022</td>\n",
       "      <td>16.10.2022</td>\n",
       "      <td>Tussey Mountainback 50 Miler</td>\n",
       "      <td>50mi</td>\n",
       "      <td>35</td>\n",
       "      <td>11:46:34</td>\n",
       "      <td>F</td>\n",
       "      <td>6.833</td>\n",
       "      <td>73152</td>\n",
       "      <td>USA</td>\n",
       "      <td>67.0</td>\n",
       "    </tr>\n",
       "    <tr>\n",
       "      <th>56810</th>\n",
       "      <td>2022</td>\n",
       "      <td>16.10.2022</td>\n",
       "      <td>Tussey Mountainback 50 Miler</td>\n",
       "      <td>50mi</td>\n",
       "      <td>35</td>\n",
       "      <td>11:55:29</td>\n",
       "      <td>M</td>\n",
       "      <td>6.748</td>\n",
       "      <td>970133</td>\n",
       "      <td>USA</td>\n",
       "      <td>57.0</td>\n",
       "    </tr>\n",
       "    <tr>\n",
       "      <th>56811</th>\n",
       "      <td>2022</td>\n",
       "      <td>16.10.2022</td>\n",
       "      <td>Tussey Mountainback 50 Miler</td>\n",
       "      <td>50mi</td>\n",
       "      <td>35</td>\n",
       "      <td>12:14:15</td>\n",
       "      <td>F</td>\n",
       "      <td>6.575</td>\n",
       "      <td>723380</td>\n",
       "      <td>USA</td>\n",
       "      <td>41.0</td>\n",
       "    </tr>\n",
       "  </tbody>\n",
       "</table>\n",
       "<p>56812 rows × 11 columns</p>\n",
       "</div>"
      ],
      "text/plain": [
       "       Year of event Event dates                        Event name  \\\n",
       "0               2022  12.03.2022  Bel Monte 50 Mile Endurance Run    \n",
       "1               2022  12.03.2022  Bel Monte 50 Mile Endurance Run    \n",
       "2               2022  12.03.2022  Bel Monte 50 Mile Endurance Run    \n",
       "3               2022  12.03.2022  Bel Monte 50 Mile Endurance Run    \n",
       "4               2022  12.03.2022  Bel Monte 50 Mile Endurance Run    \n",
       "...              ...         ...                               ...   \n",
       "56807           2022  16.10.2022     Tussey Mountainback 50 Miler    \n",
       "56808           2022  16.10.2022     Tussey Mountainback 50 Miler    \n",
       "56809           2022  16.10.2022     Tussey Mountainback 50 Miler    \n",
       "56810           2022  16.10.2022     Tussey Mountainback 50 Miler    \n",
       "56811           2022  16.10.2022     Tussey Mountainback 50 Miler    \n",
       "\n",
       "      Event distance/length  Event number of finishers Athlete performance  \\\n",
       "0                      50mi                         49             7:53:36   \n",
       "1                      50mi                         49             8:14:24   \n",
       "2                      50mi                         49             8:19:16   \n",
       "3                      50mi                         49             8:23:49   \n",
       "4                      50mi                         49             8:41:37   \n",
       "...                     ...                        ...                 ...   \n",
       "56807                  50mi                         35            11:16:08   \n",
       "56808                  50mi                         35            11:27:05   \n",
       "56809                  50mi                         35            11:46:34   \n",
       "56810                  50mi                         35            11:55:29   \n",
       "56811                  50mi                         35            12:14:15   \n",
       "\n",
       "      Athlete gender Athlete average speed  Athlete ID country  athlete_age  \n",
       "0                  M                10.194      839364     USA         28.0  \n",
       "1                  M                 9.765      366598     USA         32.0  \n",
       "2                  M                  9.67      553476     USA         43.0  \n",
       "3                  M                 9.583      807555     USA         28.0  \n",
       "4                  M                 9.256      947348     USA         25.0  \n",
       "...              ...                   ...         ...     ...          ...  \n",
       "56807              M                 7.141     1044739     USA         54.0  \n",
       "56808              M                 7.027       50971     USA         63.0  \n",
       "56809              F                 6.833       73152     USA         67.0  \n",
       "56810              M                 6.748      970133     USA         57.0  \n",
       "56811              F                 6.575      723380     USA         41.0  \n",
       "\n",
       "[56812 rows x 11 columns]"
      ]
     },
     "execution_count": 32,
     "metadata": {},
     "output_type": "execute_result"
    }
   ],
   "source": [
    "df.reset_index(drop = True)"
   ]
  },
  {
   "cell_type": "code",
   "execution_count": 33,
   "id": "0d9fa75a-1d78-40eb-bf74-dee69ba5cb06",
   "metadata": {},
   "outputs": [],
   "source": [
    "# fix data types"
   ]
  },
  {
   "cell_type": "code",
   "execution_count": 34,
   "id": "e00b88bf-1fec-4cf6-8917-8ab7093754a1",
   "metadata": {},
   "outputs": [
    {
     "data": {
      "text/plain": [
       "Year of event                  int64\n",
       "Event dates                   object\n",
       "Event name                    object\n",
       "Event distance/length         object\n",
       "Event number of finishers      int64\n",
       "Athlete performance           object\n",
       "Athlete gender                object\n",
       "Athlete average speed         object\n",
       "Athlete ID                     int64\n",
       "country                       object\n",
       "athlete_age                  float64\n",
       "dtype: object"
      ]
     },
     "execution_count": 34,
     "metadata": {},
     "output_type": "execute_result"
    }
   ],
   "source": [
    "df.dtypes"
   ]
  },
  {
   "cell_type": "code",
   "execution_count": 35,
   "id": "d495a2e5-a5f9-4227-a46b-6f7deb610e4b",
   "metadata": {},
   "outputs": [],
   "source": [
    "# transforming float datatype into int in 'athlete_age' column"
   ]
  },
  {
   "cell_type": "code",
   "execution_count": 36,
   "id": "6df901e3-cd1b-44e4-a1c8-958c83b1c06f",
   "metadata": {},
   "outputs": [],
   "source": [
    "df['athlete_age'] = df['athlete_age'].astype(int)"
   ]
  },
  {
   "cell_type": "code",
   "execution_count": 37,
   "id": "2f2a647e-efc2-4dc9-8713-f332b66dd9f8",
   "metadata": {},
   "outputs": [],
   "source": [
    "# transforming object datatype into float in 'Athlete average speed' column"
   ]
  },
  {
   "cell_type": "code",
   "execution_count": 38,
   "id": "cac33089-9689-4b36-bdf0-d0dc0ae26377",
   "metadata": {},
   "outputs": [],
   "source": [
    "df['Athlete average speed'] = df['Athlete average speed'].astype(float)"
   ]
  },
  {
   "cell_type": "code",
   "execution_count": 39,
   "id": "a7b9003f-47ae-4317-9dd2-2b6e640aab29",
   "metadata": {},
   "outputs": [
    {
     "data": {
      "text/plain": [
       "Year of event                  int64\n",
       "Event dates                   object\n",
       "Event name                    object\n",
       "Event distance/length         object\n",
       "Event number of finishers      int64\n",
       "Athlete performance           object\n",
       "Athlete gender                object\n",
       "Athlete average speed        float64\n",
       "Athlete ID                     int64\n",
       "country                       object\n",
       "athlete_age                    int32\n",
       "dtype: object"
      ]
     },
     "execution_count": 39,
     "metadata": {},
     "output_type": "execute_result"
    }
   ],
   "source": [
    "df.dtypes"
   ]
  },
  {
   "cell_type": "code",
   "execution_count": 40,
   "id": "10723e4c-f95d-4684-b0b9-381c33357814",
   "metadata": {},
   "outputs": [
    {
     "data": {
      "text/html": [
       "<div>\n",
       "<style scoped>\n",
       "    .dataframe tbody tr th:only-of-type {\n",
       "        vertical-align: middle;\n",
       "    }\n",
       "\n",
       "    .dataframe tbody tr th {\n",
       "        vertical-align: top;\n",
       "    }\n",
       "\n",
       "    .dataframe thead th {\n",
       "        text-align: right;\n",
       "    }\n",
       "</style>\n",
       "<table border=\"1\" class=\"dataframe\">\n",
       "  <thead>\n",
       "    <tr style=\"text-align: right;\">\n",
       "      <th></th>\n",
       "      <th>Year of event</th>\n",
       "      <th>Event dates</th>\n",
       "      <th>Event name</th>\n",
       "      <th>Event distance/length</th>\n",
       "      <th>Event number of finishers</th>\n",
       "      <th>Athlete performance</th>\n",
       "      <th>Athlete gender</th>\n",
       "      <th>Athlete average speed</th>\n",
       "      <th>Athlete ID</th>\n",
       "      <th>country</th>\n",
       "      <th>athlete_age</th>\n",
       "    </tr>\n",
       "  </thead>\n",
       "  <tbody>\n",
       "    <tr>\n",
       "      <th>3138208</th>\n",
       "      <td>2022</td>\n",
       "      <td>12.03.2022</td>\n",
       "      <td>Bel Monte 50 Mile Endurance Run</td>\n",
       "      <td>50mi</td>\n",
       "      <td>49</td>\n",
       "      <td>7:53:36</td>\n",
       "      <td>M</td>\n",
       "      <td>10.194</td>\n",
       "      <td>839364</td>\n",
       "      <td>USA</td>\n",
       "      <td>28</td>\n",
       "    </tr>\n",
       "    <tr>\n",
       "      <th>3138209</th>\n",
       "      <td>2022</td>\n",
       "      <td>12.03.2022</td>\n",
       "      <td>Bel Monte 50 Mile Endurance Run</td>\n",
       "      <td>50mi</td>\n",
       "      <td>49</td>\n",
       "      <td>8:14:24</td>\n",
       "      <td>M</td>\n",
       "      <td>9.765</td>\n",
       "      <td>366598</td>\n",
       "      <td>USA</td>\n",
       "      <td>32</td>\n",
       "    </tr>\n",
       "    <tr>\n",
       "      <th>3138210</th>\n",
       "      <td>2022</td>\n",
       "      <td>12.03.2022</td>\n",
       "      <td>Bel Monte 50 Mile Endurance Run</td>\n",
       "      <td>50mi</td>\n",
       "      <td>49</td>\n",
       "      <td>8:19:16</td>\n",
       "      <td>M</td>\n",
       "      <td>9.670</td>\n",
       "      <td>553476</td>\n",
       "      <td>USA</td>\n",
       "      <td>43</td>\n",
       "    </tr>\n",
       "    <tr>\n",
       "      <th>3138211</th>\n",
       "      <td>2022</td>\n",
       "      <td>12.03.2022</td>\n",
       "      <td>Bel Monte 50 Mile Endurance Run</td>\n",
       "      <td>50mi</td>\n",
       "      <td>49</td>\n",
       "      <td>8:23:49</td>\n",
       "      <td>M</td>\n",
       "      <td>9.583</td>\n",
       "      <td>807555</td>\n",
       "      <td>USA</td>\n",
       "      <td>28</td>\n",
       "    </tr>\n",
       "    <tr>\n",
       "      <th>3138212</th>\n",
       "      <td>2022</td>\n",
       "      <td>12.03.2022</td>\n",
       "      <td>Bel Monte 50 Mile Endurance Run</td>\n",
       "      <td>50mi</td>\n",
       "      <td>49</td>\n",
       "      <td>8:41:37</td>\n",
       "      <td>M</td>\n",
       "      <td>9.256</td>\n",
       "      <td>947348</td>\n",
       "      <td>USA</td>\n",
       "      <td>25</td>\n",
       "    </tr>\n",
       "  </tbody>\n",
       "</table>\n",
       "</div>"
      ],
      "text/plain": [
       "         Year of event Event dates                        Event name  \\\n",
       "3138208           2022  12.03.2022  Bel Monte 50 Mile Endurance Run    \n",
       "3138209           2022  12.03.2022  Bel Monte 50 Mile Endurance Run    \n",
       "3138210           2022  12.03.2022  Bel Monte 50 Mile Endurance Run    \n",
       "3138211           2022  12.03.2022  Bel Monte 50 Mile Endurance Run    \n",
       "3138212           2022  12.03.2022  Bel Monte 50 Mile Endurance Run    \n",
       "\n",
       "        Event distance/length  Event number of finishers Athlete performance  \\\n",
       "3138208                  50mi                         49             7:53:36   \n",
       "3138209                  50mi                         49             8:14:24   \n",
       "3138210                  50mi                         49             8:19:16   \n",
       "3138211                  50mi                         49             8:23:49   \n",
       "3138212                  50mi                         49             8:41:37   \n",
       "\n",
       "        Athlete gender  Athlete average speed  Athlete ID country  athlete_age  \n",
       "3138208              M                 10.194      839364     USA           28  \n",
       "3138209              M                  9.765      366598     USA           32  \n",
       "3138210              M                  9.670      553476     USA           43  \n",
       "3138211              M                  9.583      807555     USA           28  \n",
       "3138212              M                  9.256      947348     USA           25  "
      ]
     },
     "execution_count": 40,
     "metadata": {},
     "output_type": "execute_result"
    }
   ],
   "source": [
    "df.head()"
   ]
  },
  {
   "cell_type": "code",
   "execution_count": 41,
   "id": "f1064803-e6ff-4571-a880-9d8ef5a60652",
   "metadata": {},
   "outputs": [],
   "source": [
    "# rename columns"
   ]
  },
  {
   "cell_type": "code",
   "execution_count": 42,
   "id": "9f38ae03-7ce4-4c48-ae97-89e6faa5eabc",
   "metadata": {},
   "outputs": [],
   "source": [
    "# formating all current column names to lower case and replacing spaces with underscore"
   ]
  },
  {
   "cell_type": "code",
   "execution_count": 43,
   "id": "59adc5cd-88ca-4f9f-822d-fe02e10c9382",
   "metadata": {},
   "outputs": [
    {
     "data": {
      "text/plain": [
       "Index(['year_of_event', 'event_dates', 'event_name', 'event_distance/length',\n",
       "       'event_number_of_finishers', 'athlete_performance', 'athlete_gender',\n",
       "       'athlete_average_speed', 'athlete_id', 'country', 'athlete_age'],\n",
       "      dtype='object')"
      ]
     },
     "execution_count": 43,
     "metadata": {},
     "output_type": "execute_result"
    }
   ],
   "source": [
    "for column_name in df.columns:\n",
    "    new_col_name = column_name.lower().replace(' ', '_')\n",
    "    df = df.rename(columns = {column_name: new_col_name})\n",
    "df.columns"
   ]
  },
  {
   "cell_type": "code",
   "execution_count": 44,
   "id": "645148e8-796d-466b-9619-0bc09e09a177",
   "metadata": {},
   "outputs": [],
   "source": [
    "# renaming some columns"
   ]
  },
  {
   "cell_type": "code",
   "execution_count": 45,
   "id": "36aab63f-20c6-4c88-aac8-0343c1a2a3ed",
   "metadata": {},
   "outputs": [
    {
     "data": {
      "text/plain": [
       "Index(['year', 'race_date', 'race_name', 'race_length',\n",
       "       'race_number_of_finishers', 'athlete_performance', 'athlete_gender',\n",
       "       'athlete_average_speed', 'athlete_id', 'country', 'athlete_age'],\n",
       "      dtype='object')"
      ]
     },
     "execution_count": 45,
     "metadata": {},
     "output_type": "execute_result"
    }
   ],
   "source": [
    "df = df.rename(columns = {'year_of_event': 'year',\n",
    "                          'event_dates': 'race_date',\n",
    "                          'event_name': 'race_name',\n",
    "                          'event_distance/length': 'race_length',\n",
    "                          'event_number_of_finishers': 'race_number_of_finishers'})\n",
    "df.columns"
   ]
  },
  {
   "cell_type": "code",
   "execution_count": 46,
   "id": "ef2106cb-bb3e-4115-8255-ab33fd8909d6",
   "metadata": {},
   "outputs": [],
   "source": [
    "# reorder columns"
   ]
  },
  {
   "cell_type": "code",
   "execution_count": 47,
   "id": "72e48cd7-6b4c-4a03-98a4-a16ce75457f3",
   "metadata": {},
   "outputs": [],
   "source": [
    "df = df[['race_date', \n",
    "         'race_name', \n",
    "         'race_length', \n",
    "         'race_number_of_finishers', \n",
    "         'athlete_id', 'athlete_gender', \n",
    "         'athlete_age', \n",
    "         'athlete_performance', \n",
    "         'athlete_average_speed',\n",
    "         'country',\n",
    "         'year']]"
   ]
  },
  {
   "cell_type": "code",
   "execution_count": 48,
   "id": "2bd6326d-d803-4332-8eca-97556997df5e",
   "metadata": {},
   "outputs": [
    {
     "data": {
      "text/html": [
       "<div>\n",
       "<style scoped>\n",
       "    .dataframe tbody tr th:only-of-type {\n",
       "        vertical-align: middle;\n",
       "    }\n",
       "\n",
       "    .dataframe tbody tr th {\n",
       "        vertical-align: top;\n",
       "    }\n",
       "\n",
       "    .dataframe thead th {\n",
       "        text-align: right;\n",
       "    }\n",
       "</style>\n",
       "<table border=\"1\" class=\"dataframe\">\n",
       "  <thead>\n",
       "    <tr style=\"text-align: right;\">\n",
       "      <th></th>\n",
       "      <th>race_date</th>\n",
       "      <th>race_name</th>\n",
       "      <th>race_length</th>\n",
       "      <th>race_number_of_finishers</th>\n",
       "      <th>athlete_id</th>\n",
       "      <th>athlete_gender</th>\n",
       "      <th>athlete_age</th>\n",
       "      <th>athlete_performance</th>\n",
       "      <th>athlete_average_speed</th>\n",
       "      <th>country</th>\n",
       "      <th>year</th>\n",
       "    </tr>\n",
       "  </thead>\n",
       "  <tbody>\n",
       "    <tr>\n",
       "      <th>3138208</th>\n",
       "      <td>12.03.2022</td>\n",
       "      <td>Bel Monte 50 Mile Endurance Run</td>\n",
       "      <td>50mi</td>\n",
       "      <td>49</td>\n",
       "      <td>839364</td>\n",
       "      <td>M</td>\n",
       "      <td>28</td>\n",
       "      <td>7:53:36</td>\n",
       "      <td>10.194</td>\n",
       "      <td>USA</td>\n",
       "      <td>2022</td>\n",
       "    </tr>\n",
       "    <tr>\n",
       "      <th>3138209</th>\n",
       "      <td>12.03.2022</td>\n",
       "      <td>Bel Monte 50 Mile Endurance Run</td>\n",
       "      <td>50mi</td>\n",
       "      <td>49</td>\n",
       "      <td>366598</td>\n",
       "      <td>M</td>\n",
       "      <td>32</td>\n",
       "      <td>8:14:24</td>\n",
       "      <td>9.765</td>\n",
       "      <td>USA</td>\n",
       "      <td>2022</td>\n",
       "    </tr>\n",
       "    <tr>\n",
       "      <th>3138210</th>\n",
       "      <td>12.03.2022</td>\n",
       "      <td>Bel Monte 50 Mile Endurance Run</td>\n",
       "      <td>50mi</td>\n",
       "      <td>49</td>\n",
       "      <td>553476</td>\n",
       "      <td>M</td>\n",
       "      <td>43</td>\n",
       "      <td>8:19:16</td>\n",
       "      <td>9.670</td>\n",
       "      <td>USA</td>\n",
       "      <td>2022</td>\n",
       "    </tr>\n",
       "    <tr>\n",
       "      <th>3138211</th>\n",
       "      <td>12.03.2022</td>\n",
       "      <td>Bel Monte 50 Mile Endurance Run</td>\n",
       "      <td>50mi</td>\n",
       "      <td>49</td>\n",
       "      <td>807555</td>\n",
       "      <td>M</td>\n",
       "      <td>28</td>\n",
       "      <td>8:23:49</td>\n",
       "      <td>9.583</td>\n",
       "      <td>USA</td>\n",
       "      <td>2022</td>\n",
       "    </tr>\n",
       "    <tr>\n",
       "      <th>3138212</th>\n",
       "      <td>12.03.2022</td>\n",
       "      <td>Bel Monte 50 Mile Endurance Run</td>\n",
       "      <td>50mi</td>\n",
       "      <td>49</td>\n",
       "      <td>947348</td>\n",
       "      <td>M</td>\n",
       "      <td>25</td>\n",
       "      <td>8:41:37</td>\n",
       "      <td>9.256</td>\n",
       "      <td>USA</td>\n",
       "      <td>2022</td>\n",
       "    </tr>\n",
       "  </tbody>\n",
       "</table>\n",
       "</div>"
      ],
      "text/plain": [
       "          race_date                         race_name race_length  \\\n",
       "3138208  12.03.2022  Bel Monte 50 Mile Endurance Run         50mi   \n",
       "3138209  12.03.2022  Bel Monte 50 Mile Endurance Run         50mi   \n",
       "3138210  12.03.2022  Bel Monte 50 Mile Endurance Run         50mi   \n",
       "3138211  12.03.2022  Bel Monte 50 Mile Endurance Run         50mi   \n",
       "3138212  12.03.2022  Bel Monte 50 Mile Endurance Run         50mi   \n",
       "\n",
       "         race_number_of_finishers  athlete_id athlete_gender  athlete_age  \\\n",
       "3138208                        49      839364              M           28   \n",
       "3138209                        49      366598              M           32   \n",
       "3138210                        49      553476              M           43   \n",
       "3138211                        49      807555              M           28   \n",
       "3138212                        49      947348              M           25   \n",
       "\n",
       "        athlete_performance  athlete_average_speed country  year  \n",
       "3138208             7:53:36                 10.194     USA  2022  \n",
       "3138209             8:14:24                  9.765     USA  2022  \n",
       "3138210             8:19:16                  9.670     USA  2022  \n",
       "3138211             8:23:49                  9.583     USA  2022  \n",
       "3138212             8:41:37                  9.256     USA  2022  "
      ]
     },
     "execution_count": 48,
     "metadata": {},
     "output_type": "execute_result"
    }
   ],
   "source": [
    "df.head()"
   ]
  },
  {
   "cell_type": "code",
   "execution_count": 49,
   "id": "525b80f3-f495-4601-b8f6-c84fcdfc9eda",
   "metadata": {},
   "outputs": [],
   "source": [
    "# droping some more columns:"
   ]
  },
  {
   "cell_type": "code",
   "execution_count": 50,
   "id": "bc803f2f-3ff3-4906-a2a5-9936bf06c95e",
   "metadata": {},
   "outputs": [
    {
     "data": {
      "text/html": [
       "<div>\n",
       "<style scoped>\n",
       "    .dataframe tbody tr th:only-of-type {\n",
       "        vertical-align: middle;\n",
       "    }\n",
       "\n",
       "    .dataframe tbody tr th {\n",
       "        vertical-align: top;\n",
       "    }\n",
       "\n",
       "    .dataframe thead th {\n",
       "        text-align: right;\n",
       "    }\n",
       "</style>\n",
       "<table border=\"1\" class=\"dataframe\">\n",
       "  <thead>\n",
       "    <tr style=\"text-align: right;\">\n",
       "      <th></th>\n",
       "      <th>race_date</th>\n",
       "      <th>race_name</th>\n",
       "      <th>race_length</th>\n",
       "      <th>race_number_of_finishers</th>\n",
       "      <th>athlete_id</th>\n",
       "      <th>athlete_gender</th>\n",
       "      <th>athlete_age</th>\n",
       "      <th>athlete_performance</th>\n",
       "      <th>athlete_average_speed</th>\n",
       "    </tr>\n",
       "  </thead>\n",
       "  <tbody>\n",
       "    <tr>\n",
       "      <th>3138208</th>\n",
       "      <td>12.03.2022</td>\n",
       "      <td>Bel Monte 50 Mile Endurance Run</td>\n",
       "      <td>50mi</td>\n",
       "      <td>49</td>\n",
       "      <td>839364</td>\n",
       "      <td>M</td>\n",
       "      <td>28</td>\n",
       "      <td>7:53:36</td>\n",
       "      <td>10.194</td>\n",
       "    </tr>\n",
       "    <tr>\n",
       "      <th>3138209</th>\n",
       "      <td>12.03.2022</td>\n",
       "      <td>Bel Monte 50 Mile Endurance Run</td>\n",
       "      <td>50mi</td>\n",
       "      <td>49</td>\n",
       "      <td>366598</td>\n",
       "      <td>M</td>\n",
       "      <td>32</td>\n",
       "      <td>8:14:24</td>\n",
       "      <td>9.765</td>\n",
       "    </tr>\n",
       "    <tr>\n",
       "      <th>3138210</th>\n",
       "      <td>12.03.2022</td>\n",
       "      <td>Bel Monte 50 Mile Endurance Run</td>\n",
       "      <td>50mi</td>\n",
       "      <td>49</td>\n",
       "      <td>553476</td>\n",
       "      <td>M</td>\n",
       "      <td>43</td>\n",
       "      <td>8:19:16</td>\n",
       "      <td>9.670</td>\n",
       "    </tr>\n",
       "    <tr>\n",
       "      <th>3138211</th>\n",
       "      <td>12.03.2022</td>\n",
       "      <td>Bel Monte 50 Mile Endurance Run</td>\n",
       "      <td>50mi</td>\n",
       "      <td>49</td>\n",
       "      <td>807555</td>\n",
       "      <td>M</td>\n",
       "      <td>28</td>\n",
       "      <td>8:23:49</td>\n",
       "      <td>9.583</td>\n",
       "    </tr>\n",
       "    <tr>\n",
       "      <th>3138212</th>\n",
       "      <td>12.03.2022</td>\n",
       "      <td>Bel Monte 50 Mile Endurance Run</td>\n",
       "      <td>50mi</td>\n",
       "      <td>49</td>\n",
       "      <td>947348</td>\n",
       "      <td>M</td>\n",
       "      <td>25</td>\n",
       "      <td>8:41:37</td>\n",
       "      <td>9.256</td>\n",
       "    </tr>\n",
       "  </tbody>\n",
       "</table>\n",
       "</div>"
      ],
      "text/plain": [
       "          race_date                         race_name race_length  \\\n",
       "3138208  12.03.2022  Bel Monte 50 Mile Endurance Run         50mi   \n",
       "3138209  12.03.2022  Bel Monte 50 Mile Endurance Run         50mi   \n",
       "3138210  12.03.2022  Bel Monte 50 Mile Endurance Run         50mi   \n",
       "3138211  12.03.2022  Bel Monte 50 Mile Endurance Run         50mi   \n",
       "3138212  12.03.2022  Bel Monte 50 Mile Endurance Run         50mi   \n",
       "\n",
       "         race_number_of_finishers  athlete_id athlete_gender  athlete_age  \\\n",
       "3138208                        49      839364              M           28   \n",
       "3138209                        49      366598              M           32   \n",
       "3138210                        49      553476              M           43   \n",
       "3138211                        49      807555              M           28   \n",
       "3138212                        49      947348              M           25   \n",
       "\n",
       "        athlete_performance  athlete_average_speed  \n",
       "3138208             7:53:36                 10.194  \n",
       "3138209             8:14:24                  9.765  \n",
       "3138210             8:19:16                  9.670  \n",
       "3138211             8:23:49                  9.583  \n",
       "3138212             8:41:37                  9.256  "
      ]
     },
     "execution_count": 50,
     "metadata": {},
     "output_type": "execute_result"
    }
   ],
   "source": [
    "df = df.drop(['country', 'year'], axis='columns')\n",
    "df.head()"
   ]
  },
  {
   "cell_type": "code",
   "execution_count": 51,
   "id": "29e4cbeb-ca64-4c29-8482-e6b00201f2f7",
   "metadata": {},
   "outputs": [],
   "source": [
    "# analysis, charts and graphs"
   ]
  },
  {
   "cell_type": "code",
   "execution_count": 52,
   "id": "0e6a0e58-9543-4c73-a8d4-5bd458bab40c",
   "metadata": {},
   "outputs": [],
   "source": [
    "# see the proportion beetween 50 miles races and 50km races"
   ]
  },
  {
   "cell_type": "code",
   "execution_count": 53,
   "id": "a5523392-8567-4cdf-a647-34d4cc038ea2",
   "metadata": {},
   "outputs": [
    {
     "name": "stderr",
     "output_type": "stream",
     "text": [
      "C:\\Users\\pedro\\anaconda3\\Lib\\site-packages\\seaborn\\_oldcore.py:1119: FutureWarning: use_inf_as_na option is deprecated and will be removed in a future version. Convert inf values to NaN before operating instead.\n",
      "  with pd.option_context('mode.use_inf_as_na', True):\n"
     ]
    },
    {
     "data": {
      "text/plain": [
       "<Axes: xlabel='race_length', ylabel='Count'>"
      ]
     },
     "execution_count": 53,
     "metadata": {},
     "output_type": "execute_result"
    },
    {
     "data": {
      "image/png": "[encoded data removed]",
      "text/plain": [
       "<Figure size 640x480 with 1 Axes>"
      ]
     },
     "metadata": {},
     "output_type": "display_data"
    }
   ],
   "source": [
    "sns.histplot(df['race_length'])"
   ]
  },
  {
   "cell_type": "code",
   "execution_count": 54,
   "id": "e0193627-ad87-4962-a972-238cf570d9d7",
   "metadata": {},
   "outputs": [
    {
     "data": {
      "text/plain": [
       "2.9775957431912063"
      ]
     },
     "execution_count": 54,
     "metadata": {},
     "output_type": "execute_result"
    }
   ],
   "source": [
    "mi = len(df[df['race_length'] == '50mi'])\n",
    "km = len(df[df['race_length'] == '50km'])\n",
    "km_mi_ratio = km/mi\n",
    "km_mi_ratio"
   ]
  },
  {
   "cell_type": "code",
   "execution_count": 55,
   "id": "7451570f-0eb6-409e-9493-8b7fcc667d3d",
   "metadata": {},
   "outputs": [],
   "source": [
    "# we can notice that we have nearly 3 50km ultramaron for each 50mi ultramaraton, with a ratio of 2.97\n",
    "# maybe because 50 miles races are harder than 50km ones."
   ]
  },
  {
   "cell_type": "code",
   "execution_count": 56,
   "id": "be4ab7d7-919e-4660-9f67-0f983158100d",
   "metadata": {},
   "outputs": [],
   "source": [
    "# cleaning 'X' values in 'athlete_gender' column"
   ]
  },
  {
   "cell_type": "code",
   "execution_count": 57,
   "id": "20fb4057-b34b-4d9a-9cca-3529e636f4ab",
   "metadata": {},
   "outputs": [],
   "source": [
    "df = df[df['athlete_gender'] != 'X']"
   ]
  },
  {
   "cell_type": "code",
   "execution_count": 58,
   "id": "2b46980a-1ba1-4d9a-bb96-4f1159978b55",
   "metadata": {},
   "outputs": [],
   "source": [
    "# see the proportion between men and women in each race length"
   ]
  },
  {
   "cell_type": "code",
   "execution_count": 59,
   "id": "88af471c-af71-4dbd-8942-164929c15e1b",
   "metadata": {},
   "outputs": [
    {
     "name": "stderr",
     "output_type": "stream",
     "text": [
      "C:\\Users\\pedro\\anaconda3\\Lib\\site-packages\\seaborn\\_oldcore.py:1119: FutureWarning: use_inf_as_na option is deprecated and will be removed in a future version. Convert inf values to NaN before operating instead.\n",
      "  with pd.option_context('mode.use_inf_as_na', True):\n"
     ]
    },
    {
     "data": {
      "text/plain": [
       "<Axes: xlabel='race_length', ylabel='Count'>"
      ]
     },
     "execution_count": 59,
     "metadata": {},
     "output_type": "execute_result"
    },
    {
     "data": {
      "image/png": "[encoded data removed]",
      "text/plain": [
       "<Figure size 640x480 with 1 Axes>"
      ]
     },
     "metadata": {},
     "output_type": "display_data"
    }
   ],
   "source": [
    "sns.histplot(df, x='race_length', hue ='athlete_gender')"
   ]
  },
  {
   "cell_type": "code",
   "execution_count": 60,
   "id": "6c16b472-a510-4685-94ab-cdd6d3fd500f",
   "metadata": {},
   "outputs": [
    {
     "name": "stdout",
     "output_type": "stream",
     "text": [
      "Male percetage for the 50 km race: 65%\n",
      "Female percetage for the 50 km race: 35%\n",
      "Male percetage for the 50 miles race: 30%\n",
      "Female percetage for the 50 miles race: 30%\n",
      "\n"
     ]
    }
   ],
   "source": [
    "# calculating the percentage for each gender in each race length\n",
    "\n",
    "km_m = len(df[(df['race_length'] == '50km') & (df['athlete_gender'] == 'M')])\n",
    "km_f = len(df[(df['race_length'] == '50km') & (df['athlete_gender'] == 'F')])\n",
    "mi_m = len(df[(df['race_length'] == '50mi') & (df['athlete_gender'] == 'M')])\n",
    "mi_f = len(df[(df['race_length'] == '50mi') & (df['athlete_gender'] == 'F')])\n",
    "\n",
    "km_m_percentage =  round((km_m/km)*100)\n",
    "km_f_percentage =  round((km_f/km)*100)\n",
    "mi_m_percentage =  round((mi_m/mi)*100)\n",
    "mi_f_percentage =  round((mi_f/mi)*100)\n",
    "\n",
    "print(f\"Male percetage for the 50 km race: {km_m_percentage}%\\n\"\n",
    "      f\"Female percetage for the 50 km race: {km_f_percentage}%\\n\"\n",
    "      f\"Male percetage for the 50 miles race: {mi_f_percentage}%\\n\"\n",
    "      f\"Female percetage for the 50 miles race: {mi_f_percentage}%\\n\")"
   ]
  },
  {
   "cell_type": "code",
   "execution_count": 61,
   "id": "1b6c024e-b928-4f68-8b8a-f739ba14b496",
   "metadata": {},
   "outputs": [],
   "source": [
    "# show how is distributed the average speed during of the athletes during the 50 miles race"
   ]
  },
  {
   "cell_type": "code",
   "execution_count": 102,
   "id": "4dcb045a-9c07-44a3-bf2b-a50a6c55785a",
   "metadata": {},
   "outputs": [
    {
     "name": "stderr",
     "output_type": "stream",
     "text": [
      "C:\\Users\\pedro\\anaconda3\\Lib\\site-packages\\seaborn\\_oldcore.py:1119: FutureWarning: use_inf_as_na option is deprecated and will be removed in a future version. Convert inf values to NaN before operating instead.\n",
      "  with pd.option_context('mode.use_inf_as_na', True):\n"
     ]
    },
    {
     "data": {
      "text/plain": [
       "<seaborn.axisgrid.FacetGrid at 0x18e57181950>"
      ]
     },
     "execution_count": 102,
     "metadata": {},
     "output_type": "execute_result"
    },
    {
     "data": {
      "image/png": "[encoded data removed]",
      "text/plain": [
       "<Figure size 500x500 with 1 Axes>"
      ]
     },
     "metadata": {},
     "output_type": "display_data"
    }
   ],
   "source": [
    "sns.displot(df[df['race_length'] == '50mi']['athlete_average_speed'])"
   ]
  },
  {
   "cell_type": "code",
   "execution_count": 63,
   "id": "f5c0e1d0-2388-4a51-b1ca-0f7ce116655c",
   "metadata": {},
   "outputs": [],
   "source": [
    "# we can see that the majority is arround 6-8 km/h\n",
    "# there are some outliers ultrapassing 20 km/h what we know it's impossible, because the world record for this distance lies between 16-17km/h"
   ]
  },
  {
   "cell_type": "code",
   "execution_count": 101,
   "id": "f1c74676-1263-4b5e-8566-76329a25c131",
   "metadata": {
    "scrolled": true
   },
   "outputs": [],
   "source": [
    "# removing those outliers in miles\n",
    "indexNames = df[(df['race_length'] == '50mi') & (df['athlete_average_speed'] > 17)].index\n",
    "df.drop(indexNames, inplace=True)"
   ]
  },
  {
   "cell_type": "code",
   "execution_count": 93,
   "id": "821b71de-99a7-4061-8d23-8240471bbbc7",
   "metadata": {},
   "outputs": [],
   "source": [
    "# violin plot to compare female x male average speed in both 50 miles and 50 km races"
   ]
  },
  {
   "cell_type": "code",
   "execution_count": 100,
   "id": "ae4ddb8a-877c-434d-a946-4efc855aa8c5",
   "metadata": {},
   "outputs": [
    {
     "data": {
      "text/plain": [
       "<Axes: xlabel='race_length', ylabel='athlete_average_speed'>"
      ]
     },
     "execution_count": 100,
     "metadata": {},
     "output_type": "execute_result"
    },
    {
     "data": {
      "image/png": "[encoded data removed]",
      "text/plain": [
       "<Figure size 640x480 with 1 Axes>"
      ]
     },
     "metadata": {},
     "output_type": "display_data"
    }
   ],
   "source": [
    "sns.violinplot(data = df, x = 'race_length', y = 'athlete_average_speed', hue = 'athlete_gender', split = True, inner = 'quarts', linewith = -1)"
   ]
  },
  {
   "cell_type": "code",
   "execution_count": 99,
   "id": "b77e7177-e160-4d09-a746-962d74b3e8de",
   "metadata": {},
   "outputs": [],
   "source": [
    "# we can see that in smaller distances men tend to run faster than women\n",
    "# we can analyse that in greater distances women tend to have closer performance to men"
   ]
  },
  {
   "cell_type": "code",
   "execution_count": null,
   "id": "45d7b867-3265-4aa3-bc88-75533f65961f",
   "metadata": {},
   "outputs": [],
   "source": [
    "# scatter plot, to see how age correlates to the athlete average speed"
   ]
  },
  {
   "cell_type": "code",
   "execution_count": 108,
   "id": "03fc4e98-fbd6-4938-bbf7-308cc3d1d19f",
   "metadata": {},
   "outputs": [
    {
     "data": {
      "text/plain": [
       "<seaborn.axisgrid.FacetGrid at 0x18e55e08310>"
      ]
     },
     "execution_count": 108,
     "metadata": {},
     "output_type": "execute_result"
    },
    {
     "data": {
      "image/png": "[encoded data removed]",
      "text/plain": [
       "<Figure size 616.611x500 with 1 Axes>"
      ]
     },
     "metadata": {},
     "output_type": "display_data"
    }
   ],
   "source": [
    "sns.lmplot(data=df, x='athlete_age', y='athlete_average_speed', hue='athlete_gender')"
   ]
  },
  {
   "cell_type": "code",
   "execution_count": 107,
   "id": "4c03bc26-70fa-47cf-b0d9-a92222299a80",
   "metadata": {},
   "outputs": [],
   "source": [
    "# notice that there is a correlation between age and average speed, 20-40 years old seem to have the fastest runners\n",
    "# see that there are some athletes in their 80's, 90's running ultramaratons\n",
    "# can't tell if it's a mistake because we've seen old people participating this type of race"
   ]
  },
  {
   "cell_type": "code",
   "execution_count": 110,
   "id": "a286db40-4dd4-45da-bffa-fc744406e2b1",
   "metadata": {},
   "outputs": [],
   "source": [
    "# more questions to find out from the data:"
   ]
  },
  {
   "cell_type": "code",
   "execution_count": 111,
   "id": "c0353e27-4b57-44ab-9571-e92971e0790a",
   "metadata": {},
   "outputs": [],
   "source": [
    "# Difference in speed for the 50k, 50mi, male to female  "
   ]
  },
  {
   "cell_type": "code",
   "execution_count": 114,
   "id": "5d40829e-e992-44d2-b509-62df7537aa1f",
   "metadata": {},
   "outputs": [
    {
     "data": {
      "text/plain": [
       "race_length  athlete_gender\n",
       "50km         F                 6.966948\n",
       "             M                 7.562757\n",
       "50mi         F                 6.779096\n",
       "             M                 7.214038\n",
       "Name: athlete_average_speed, dtype: float64"
      ]
     },
     "execution_count": 114,
     "metadata": {},
     "output_type": "execute_result"
    }
   ],
   "source": [
    "df.groupby(['race_length', 'athlete_gender'])['athlete_average_speed'].mean()"
   ]
  },
  {
   "cell_type": "code",
   "execution_count": 138,
   "id": "4c09327c-e86b-429c-b15c-01c0a0980a68",
   "metadata": {},
   "outputs": [],
   "source": [
    "# What age groups are the fastest in the 50 miles race (19+ yo) (top 15)"
   ]
  },
  {
   "cell_type": "code",
   "execution_count": 142,
   "id": "6a841981-4157-48ed-a017-02c032492749",
   "metadata": {},
   "outputs": [
    {
     "data": {
      "text/html": [
       "<div>\n",
       "<style scoped>\n",
       "    .dataframe tbody tr th:only-of-type {\n",
       "        vertical-align: middle;\n",
       "    }\n",
       "\n",
       "    .dataframe tbody tr th {\n",
       "        vertical-align: top;\n",
       "    }\n",
       "\n",
       "    .dataframe thead th {\n",
       "        text-align: right;\n",
       "    }\n",
       "</style>\n",
       "<table border=\"1\" class=\"dataframe\">\n",
       "  <thead>\n",
       "    <tr style=\"text-align: right;\">\n",
       "      <th></th>\n",
       "      <th>mean</th>\n",
       "      <th>count</th>\n",
       "    </tr>\n",
       "    <tr>\n",
       "      <th>athlete_age</th>\n",
       "      <th></th>\n",
       "      <th></th>\n",
       "    </tr>\n",
       "  </thead>\n",
       "  <tbody>\n",
       "    <tr>\n",
       "      <th>19</th>\n",
       "      <td>7.781079</td>\n",
       "      <td>38</td>\n",
       "    </tr>\n",
       "    <tr>\n",
       "      <th>26</th>\n",
       "      <td>7.750676</td>\n",
       "      <td>262</td>\n",
       "    </tr>\n",
       "    <tr>\n",
       "      <th>20</th>\n",
       "      <td>7.633224</td>\n",
       "      <td>67</td>\n",
       "    </tr>\n",
       "    <tr>\n",
       "      <th>32</th>\n",
       "      <td>7.560600</td>\n",
       "      <td>418</td>\n",
       "    </tr>\n",
       "    <tr>\n",
       "      <th>24</th>\n",
       "      <td>7.526565</td>\n",
       "      <td>186</td>\n",
       "    </tr>\n",
       "    <tr>\n",
       "      <th>25</th>\n",
       "      <td>7.477597</td>\n",
       "      <td>206</td>\n",
       "    </tr>\n",
       "    <tr>\n",
       "      <th>28</th>\n",
       "      <td>7.428883</td>\n",
       "      <td>325</td>\n",
       "    </tr>\n",
       "    <tr>\n",
       "      <th>31</th>\n",
       "      <td>7.424462</td>\n",
       "      <td>394</td>\n",
       "    </tr>\n",
       "    <tr>\n",
       "      <th>27</th>\n",
       "      <td>7.418414</td>\n",
       "      <td>256</td>\n",
       "    </tr>\n",
       "    <tr>\n",
       "      <th>21</th>\n",
       "      <td>7.400543</td>\n",
       "      <td>92</td>\n",
       "    </tr>\n",
       "    <tr>\n",
       "      <th>22</th>\n",
       "      <td>7.391286</td>\n",
       "      <td>112</td>\n",
       "    </tr>\n",
       "    <tr>\n",
       "      <th>34</th>\n",
       "      <td>7.388895</td>\n",
       "      <td>457</td>\n",
       "    </tr>\n",
       "    <tr>\n",
       "      <th>29</th>\n",
       "      <td>7.352136</td>\n",
       "      <td>367</td>\n",
       "    </tr>\n",
       "    <tr>\n",
       "      <th>30</th>\n",
       "      <td>7.347627</td>\n",
       "      <td>367</td>\n",
       "    </tr>\n",
       "    <tr>\n",
       "      <th>37</th>\n",
       "      <td>7.345280</td>\n",
       "      <td>517</td>\n",
       "    </tr>\n",
       "  </tbody>\n",
       "</table>\n",
       "</div>"
      ],
      "text/plain": [
       "                 mean  count\n",
       "athlete_age                 \n",
       "19           7.781079     38\n",
       "26           7.750676    262\n",
       "20           7.633224     67\n",
       "32           7.560600    418\n",
       "24           7.526565    186\n",
       "25           7.477597    206\n",
       "28           7.428883    325\n",
       "31           7.424462    394\n",
       "27           7.418414    256\n",
       "21           7.400543     92\n",
       "22           7.391286    112\n",
       "34           7.388895    457\n",
       "29           7.352136    367\n",
       "30           7.347627    367\n",
       "37           7.345280    517"
      ]
     },
     "execution_count": 142,
     "metadata": {},
     "output_type": "execute_result"
    }
   ],
   "source": [
    "df.query('race_length == \"50mi\"').groupby('athlete_age')['athlete_average_speed'].agg(['mean', 'count']).sort_values('mean', ascending=False).query('count>15').head(15)"
   ]
  },
  {
   "cell_type": "code",
   "execution_count": 132,
   "id": "22b4cb17-01c7-423a-8ce4-919a3915434a",
   "metadata": {},
   "outputs": [],
   "source": [
    "# What age groups have the slowest performance (top 20)"
   ]
  },
  {
   "cell_type": "code",
   "execution_count": 131,
   "id": "53d9dab9-ca53-4e0e-80c1-5cbe8fa8c6ec",
   "metadata": {
    "scrolled": true
   },
   "outputs": [
    {
     "data": {
      "text/html": [
       "<div>\n",
       "<style scoped>\n",
       "    .dataframe tbody tr th:only-of-type {\n",
       "        vertical-align: middle;\n",
       "    }\n",
       "\n",
       "    .dataframe tbody tr th {\n",
       "        vertical-align: top;\n",
       "    }\n",
       "\n",
       "    .dataframe thead th {\n",
       "        text-align: right;\n",
       "    }\n",
       "</style>\n",
       "<table border=\"1\" class=\"dataframe\">\n",
       "  <thead>\n",
       "    <tr style=\"text-align: right;\">\n",
       "      <th></th>\n",
       "      <th>mean</th>\n",
       "      <th>count</th>\n",
       "    </tr>\n",
       "    <tr>\n",
       "      <th>athlete_age</th>\n",
       "      <th></th>\n",
       "      <th></th>\n",
       "    </tr>\n",
       "  </thead>\n",
       "  <tbody>\n",
       "    <tr>\n",
       "      <th>87</th>\n",
       "      <td>3.453000</td>\n",
       "      <td>1</td>\n",
       "    </tr>\n",
       "    <tr>\n",
       "      <th>82</th>\n",
       "      <td>4.774000</td>\n",
       "      <td>1</td>\n",
       "    </tr>\n",
       "    <tr>\n",
       "      <th>78</th>\n",
       "      <td>4.935000</td>\n",
       "      <td>1</td>\n",
       "    </tr>\n",
       "    <tr>\n",
       "      <th>80</th>\n",
       "      <td>5.076667</td>\n",
       "      <td>3</td>\n",
       "    </tr>\n",
       "    <tr>\n",
       "      <th>79</th>\n",
       "      <td>5.244000</td>\n",
       "      <td>3</td>\n",
       "    </tr>\n",
       "    <tr>\n",
       "      <th>81</th>\n",
       "      <td>5.320000</td>\n",
       "      <td>4</td>\n",
       "    </tr>\n",
       "    <tr>\n",
       "      <th>74</th>\n",
       "      <td>5.426800</td>\n",
       "      <td>10</td>\n",
       "    </tr>\n",
       "    <tr>\n",
       "      <th>13</th>\n",
       "      <td>5.439000</td>\n",
       "      <td>1</td>\n",
       "    </tr>\n",
       "    <tr>\n",
       "      <th>73</th>\n",
       "      <td>5.486500</td>\n",
       "      <td>16</td>\n",
       "    </tr>\n",
       "    <tr>\n",
       "      <th>75</th>\n",
       "      <td>5.561167</td>\n",
       "      <td>6</td>\n",
       "    </tr>\n",
       "    <tr>\n",
       "      <th>68</th>\n",
       "      <td>5.758423</td>\n",
       "      <td>26</td>\n",
       "    </tr>\n",
       "    <tr>\n",
       "      <th>77</th>\n",
       "      <td>5.787000</td>\n",
       "      <td>1</td>\n",
       "    </tr>\n",
       "    <tr>\n",
       "      <th>15</th>\n",
       "      <td>5.862500</td>\n",
       "      <td>2</td>\n",
       "    </tr>\n",
       "    <tr>\n",
       "      <th>70</th>\n",
       "      <td>5.958667</td>\n",
       "      <td>18</td>\n",
       "    </tr>\n",
       "    <tr>\n",
       "      <th>69</th>\n",
       "      <td>5.976714</td>\n",
       "      <td>28</td>\n",
       "    </tr>\n",
       "    <tr>\n",
       "      <th>65</th>\n",
       "      <td>5.990196</td>\n",
       "      <td>51</td>\n",
       "    </tr>\n",
       "    <tr>\n",
       "      <th>71</th>\n",
       "      <td>6.078100</td>\n",
       "      <td>10</td>\n",
       "    </tr>\n",
       "    <tr>\n",
       "      <th>67</th>\n",
       "      <td>6.089679</td>\n",
       "      <td>28</td>\n",
       "    </tr>\n",
       "    <tr>\n",
       "      <th>66</th>\n",
       "      <td>6.120250</td>\n",
       "      <td>40</td>\n",
       "    </tr>\n",
       "    <tr>\n",
       "      <th>72</th>\n",
       "      <td>6.129071</td>\n",
       "      <td>14</td>\n",
       "    </tr>\n",
       "  </tbody>\n",
       "</table>\n",
       "</div>"
      ],
      "text/plain": [
       "                 mean  count\n",
       "athlete_age                 \n",
       "87           3.453000      1\n",
       "82           4.774000      1\n",
       "78           4.935000      1\n",
       "80           5.076667      3\n",
       "79           5.244000      3\n",
       "81           5.320000      4\n",
       "74           5.426800     10\n",
       "13           5.439000      1\n",
       "73           5.486500     16\n",
       "75           5.561167      6\n",
       "68           5.758423     26\n",
       "77           5.787000      1\n",
       "15           5.862500      2\n",
       "70           5.958667     18\n",
       "69           5.976714     28\n",
       "65           5.990196     51\n",
       "71           6.078100     10\n",
       "67           6.089679     28\n",
       "66           6.120250     40\n",
       "72           6.129071     14"
      ]
     },
     "execution_count": 131,
     "metadata": {},
     "output_type": "execute_result"
    }
   ],
   "source": [
    "df.query('race_length == \"50mi\"').groupby('athlete_age')['athlete_average_speed'].agg(['mean', 'count']).sort_values('mean', ascending=True).query('count>0').head(20)"
   ]
  },
  {
   "cell_type": "code",
   "execution_count": 143,
   "id": "ba36d31a-6130-4995-b1f3-8aaf03d68d13",
   "metadata": {},
   "outputs": [],
   "source": [
    "# difference in performance in different seasons"
   ]
  },
  {
   "cell_type": "code",
   "execution_count": 180,
   "id": "0060094a-4fc1-4eed-9374-e92686f26631",
   "metadata": {},
   "outputs": [],
   "source": [
    "df['race_month'] = df['race_date'].str.split('.').str.get(-2).astype(int)\n",
    "df['race_season'] = df['race_month'].apply( lambda x: 'winter' if x > 11 \n",
    "                                           else 'fall' if x > 8 \n",
    "                                           else 'summer' if x > 5 \n",
    "                                           else 'spring' if x > 2 \n",
    "                                           else 'winter')"
   ]
  },
  {
   "cell_type": "code",
   "execution_count": 197,
   "id": "4e261c08-ac55-46ed-8ee9-91a923a54223",
   "metadata": {},
   "outputs": [
    {
     "data": {
      "text/plain": [
       "race_season\n",
       "spring    17796\n",
       "fall      17769\n",
       "summer    12431\n",
       "winter     8810\n",
       "Name: count, dtype: int64"
      ]
     },
     "execution_count": 197,
     "metadata": {},
     "output_type": "execute_result"
    }
   ],
   "source": [
    "df['race_season'] = df['race_season'].astype(str)\n",
    "df['race_season'].value_counts()"
   ]
  },
  {
   "cell_type": "code",
   "execution_count": 202,
   "id": "e1f7c4a6-4ae0-4c14-8e23-481156956257",
   "metadata": {},
   "outputs": [
    {
     "data": {
      "text/html": [
       "<div>\n",
       "<style scoped>\n",
       "    .dataframe tbody tr th:only-of-type {\n",
       "        vertical-align: middle;\n",
       "    }\n",
       "\n",
       "    .dataframe tbody tr th {\n",
       "        vertical-align: top;\n",
       "    }\n",
       "\n",
       "    .dataframe thead th {\n",
       "        text-align: right;\n",
       "    }\n",
       "</style>\n",
       "<table border=\"1\" class=\"dataframe\">\n",
       "  <thead>\n",
       "    <tr style=\"text-align: right;\">\n",
       "      <th></th>\n",
       "      <th>mean</th>\n",
       "      <th>count</th>\n",
       "    </tr>\n",
       "    <tr>\n",
       "      <th>race_season</th>\n",
       "      <th></th>\n",
       "      <th></th>\n",
       "    </tr>\n",
       "  </thead>\n",
       "  <tbody>\n",
       "    <tr>\n",
       "      <th>winter</th>\n",
       "      <td>7.726799</td>\n",
       "      <td>8810</td>\n",
       "    </tr>\n",
       "    <tr>\n",
       "      <th>spring</th>\n",
       "      <td>7.283188</td>\n",
       "      <td>17796</td>\n",
       "    </tr>\n",
       "    <tr>\n",
       "      <th>fall</th>\n",
       "      <td>7.279612</td>\n",
       "      <td>17769</td>\n",
       "    </tr>\n",
       "    <tr>\n",
       "      <th>summer</th>\n",
       "      <td>6.989620</td>\n",
       "      <td>12431</td>\n",
       "    </tr>\n",
       "  </tbody>\n",
       "</table>\n",
       "</div>"
      ],
      "text/plain": [
       "                 mean  count\n",
       "race_season                 \n",
       "winter       7.726799   8810\n",
       "spring       7.283188  17796\n",
       "fall         7.279612  17769\n",
       "summer       6.989620  12431"
      ]
     },
     "execution_count": 202,
     "metadata": {},
     "output_type": "execute_result"
    }
   ],
   "source": [
    "df.groupby('race_season')['athlete_average_speed'].agg(['mean', 'count']).sort_values('mean', ascending=False)"
   ]
  },
  {
   "cell_type": "code",
   "execution_count": 203,
   "id": "e9928897-c11f-4d2c-a8f0-f00d5d2c6535",
   "metadata": {},
   "outputs": [],
   "source": [
    "# The summer has the worst average perfomance, probably temperature makes the race tougher, decreasing the average performance."
   ]
  },
  {
   "cell_type": "code",
   "execution_count": 204,
   "id": "7ed14277-a54c-4074-9e8f-511f1681e1ed",
   "metadata": {},
   "outputs": [],
   "source": [
    "# 50 miles only:"
   ]
  },
  {
   "cell_type": "code",
   "execution_count": 205,
   "id": "38dca80d-4061-418b-bca3-69cc5ff500c5",
   "metadata": {},
   "outputs": [
    {
     "data": {
      "text/html": [
       "<div>\n",
       "<style scoped>\n",
       "    .dataframe tbody tr th:only-of-type {\n",
       "        vertical-align: middle;\n",
       "    }\n",
       "\n",
       "    .dataframe tbody tr th {\n",
       "        vertical-align: top;\n",
       "    }\n",
       "\n",
       "    .dataframe thead th {\n",
       "        text-align: right;\n",
       "    }\n",
       "</style>\n",
       "<table border=\"1\" class=\"dataframe\">\n",
       "  <thead>\n",
       "    <tr style=\"text-align: right;\">\n",
       "      <th></th>\n",
       "      <th>mean</th>\n",
       "      <th>count</th>\n",
       "    </tr>\n",
       "    <tr>\n",
       "      <th>race_season</th>\n",
       "      <th></th>\n",
       "      <th></th>\n",
       "    </tr>\n",
       "  </thead>\n",
       "  <tbody>\n",
       "    <tr>\n",
       "      <th>winter</th>\n",
       "      <td>7.335837</td>\n",
       "      <td>1567</td>\n",
       "    </tr>\n",
       "    <tr>\n",
       "      <th>fall</th>\n",
       "      <td>7.301296</td>\n",
       "      <td>4600</td>\n",
       "    </tr>\n",
       "    <tr>\n",
       "      <th>spring</th>\n",
       "      <td>7.071688</td>\n",
       "      <td>4433</td>\n",
       "    </tr>\n",
       "    <tr>\n",
       "      <th>summer</th>\n",
       "      <td>6.722977</td>\n",
       "      <td>3680</td>\n",
       "    </tr>\n",
       "  </tbody>\n",
       "</table>\n",
       "</div>"
      ],
      "text/plain": [
       "                 mean  count\n",
       "race_season                 \n",
       "winter       7.335837   1567\n",
       "fall         7.301296   4600\n",
       "spring       7.071688   4433\n",
       "summer       6.722977   3680"
      ]
     },
     "execution_count": 205,
     "metadata": {},
     "output_type": "execute_result"
    }
   ],
   "source": [
    "df.query('race_length == \"50mi\"').groupby('race_season')['athlete_average_speed'].agg(['mean', 'count']).sort_values('mean', ascending=False)"
   ]
  },
  {
   "cell_type": "code",
   "execution_count": 206,
   "id": "adf13fb5-c05d-4205-9a93-deb58841557b",
   "metadata": {},
   "outputs": [],
   "source": [
    "# same conclusion"
   ]
  },
  {
   "cell_type": "code",
   "execution_count": 207,
   "id": "9db3db9f-8a15-4acb-8aaf-9e99ee006d19",
   "metadata": {},
   "outputs": [],
   "source": [
    "# saving cleaned csv:\n",
    "df.to_csv('ultramarathon_data_cleaned.csv')"
   ]
  },
  {
   "cell_type": "code",
   "execution_count": null,
   "id": "c84e2834-3a12-4dea-b88c-fccefd34c4a2",
   "metadata": {},
   "outputs": [],
   "source": []
  }
 ],
 "metadata": {
  "kernelspec": {
   "display_name": "Python 3 (ipykernel)",
   "language": "python",
   "name": "python3"
  },
  "language_info": {
   "codemirror_mode": {
    "name": "ipython",
    "version": 3
   },
   "file_extension": ".py",
   "mimetype": "text/x-python",
   "name": "python",
   "nbconvert_exporter": "python",
   "pygments_lexer": "ipython3",
   "version": "3.11.7"
  }
 },
 "nbformat": 4,
 "nbformat_minor": 5
}
